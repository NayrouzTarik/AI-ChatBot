{
 "cells": [
  {
   "cell_type": "code",
   "execution_count": 42,
   "outputs": [
    {
     "name": "stdout",
     "output_type": "stream",
     "text": [
      "<langchain_community.document_loaders.unstructured.UnstructuredFileLoader object at 0x000001E92DC0A390>\n"
     ]
    }
   ],
   "source": [
    "from langchain_community.document_loaders import UnstructuredFileLoader\n",
    "from nltk.tokenize import sent_tokenize\n",
    "import PyPDF2\n",
    "\n",
    "def extract_text_from_pdf(pdf_path):\n",
    "    # Use PyPDF2 to extract text from the PDF\n",
    "    pdf_file = open(pdf_path, 'rb')\n",
    "    pdf_reader = PyPDF2.PdfReader(pdf_file)\n",
    "    text = ''\n",
    "    # Loop through each page of the PDF\n",
    "    for page_number in range(len(pdf_reader.pages)):\n",
    "        page = pdf_reader.pages[page_number]\n",
    "        text += page.extract_text()\n",
    "    pdf_file.close()\n",
    "    return text\n",
    "\n",
    "def chunk_text(text):\n",
    "    #breaking long text into sentences\n",
    "    sentences = sent_tokenize(text)\n",
    "    #emppty list to store the chunks of each in\n",
    "    chunks = []\n",
    "    current_chunk = \"\"\n",
    "    #for each sentence \n",
    "    for sentence in sentences:\n",
    "        #to not pass 500 in sentences len for each chunk\n",
    "        if len(current_chunk) + len(sentence) < 500:  \n",
    "            current_chunk += \" \" + sentence\n",
    "        #if it excedd 500 then we pass to the next chunk & append the previous\n",
    "        else:\n",
    "            chunks.append(current_chunk.strip())\n",
    "            current_chunk = sentence\n",
    "    #if there s any left sentences we append them\n",
    "    if current_chunk:\n",
    "        chunks.append(current_chunk.strip())\n",
    "    return chunks\n",
    "\n",
    "#saving to a file \n",
    "def save_chunks_to_file(text, output_file):\n",
    "    chunks = chunk_text(text)  # Generate chunks\n",
    "    with open(output_file, 'w', encoding='utf-8') as f:\n",
    "        for chunk in chunks:\n",
    "            f.write(chunk + '\\n')\n",
    "\n",
    "pdf_path = 'infos/pdf2.pdf'\n",
    "pdf_text = extract_text_from_pdf(pdf_path)\n",
    "\n",
    "loader = UnstructuredFileLoader(pdf_text)\n",
    "\n",
    "processed_text = loader\n",
    "\n",
    "# Print the processed text\n",
    "print(processed_text)\n",
    "\n",
    "output_file = \"chunked.txt\"\n",
    "save_chunks_to_file(pdf_text, output_file)\n"
   ],
   "metadata": {
    "collapsed": false,
    "ExecuteTime": {
     "end_time": "2024-05-10T14:21:49.262181600Z",
     "start_time": "2024-05-10T14:21:42.528892800Z"
    }
   },
   "id": "initial_id"
  },
  {
   "cell_type": "code",
   "execution_count": null,
   "outputs": [],
   "source": [],
   "metadata": {
    "collapsed": false
   },
   "id": "5b6cb31c29b5894e"
  }
 ],
 "metadata": {
  "kernelspec": {
   "display_name": "Python 3",
   "language": "python",
   "name": "python3"
  },
  "language_info": {
   "codemirror_mode": {
    "name": "ipython",
    "version": 2
   },
   "file_extension": ".py",
   "mimetype": "text/x-python",
   "name": "python",
   "nbconvert_exporter": "python",
   "pygments_lexer": "ipython2",
   "version": "2.7.6"
  }
 },
 "nbformat": 4,
 "nbformat_minor": 5
}
