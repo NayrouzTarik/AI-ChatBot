{
 "cells": [
  {
   "cell_type": "code",
   "execution_count": null,
   "outputs": [],
   "source": [
    "#creating a methode for the UFL to get text from the file \n",
    "from nbformat import reader\n",
    "import PyPDF2\n",
    "\n",
    "class UnstructuredFileLoader:\n",
    "    def __init__(self, file_path):\n",
    "        self.file_path = file_path\n",
    "\n",
    "    def get_text(self):\n",
    "        pdf_file = open(self.file_path, 'rb')\n",
    "        pdf_reader = PyPDF2.PdfFileReader(pdf_file)\n",
    "        text = \"\"\n",
    "        #going through each page of the pdf\n",
    "        for page_num in range(len(reader.pages)):\n",
    "            page = pdf_reader.getPage(page_num)\n",
    "            #extract the page content & store it in the text var\n",
    "            text += page.extract_text()\n",
    "        pdf_file.close()\n",
    "        return text\n"
   ],
   "metadata": {
    "collapsed": false
   },
   "id": "78c8d1e652d05395"
  },
  {
   "cell_type": "code",
   "execution_count": 40,
   "outputs": [
    {
     "name": "stdout",
     "output_type": "stream",
     "text": [
      "<langchain_community.document_loaders.unstructured.UnstructuredFileLoader object at 0x000001E9302E9100>\n"
     ]
    }
   ],
   "source": [
    "import tempfile\n",
    "from langchain_community.document_loaders import UnstructuredFileLoader\n",
    "from nltk.tokenize import sent_tokenize\n",
    "import PyPDF2\n",
    "\n",
    "def extract_text_from_pdf(pdf_path):\n",
    "    # Use PyPDF2 to extract text from the PDF\n",
    "    pdf_file = open(pdf_path, 'rb')\n",
    "    pdf_reader = PyPDF2.PdfReader(pdf_file)\n",
    "    text = ''\n",
    "    # Loop through each page of the PDF\n",
    "    for page_number in range(len(pdf_reader.pages)):\n",
    "        page = pdf_reader.pages[page_number]\n",
    "        text += page.extract_text()\n",
    "    pdf_file.close()\n",
    "    return text\n",
    "\n",
    "\n",
    "\n",
    "def chunk_text(text):\n",
    "    sentences = sent_tokenize(text)\n",
    "    chunks = []\n",
    "    current_chunk = \"\"\n",
    "    for sentence in sentences:\n",
    "        if len(current_chunk) + len(sentence) < 500:  \n",
    "            current_chunk += \" \" + sentence\n",
    "        else:\n",
    "            chunks.append(current_chunk.strip())\n",
    "            current_chunk = sentence\n",
    "    if current_chunk:\n",
    "        chunks.append(current_chunk.strip())\n",
    "    return chunks\n",
    "\n",
    "def save_chunks_to_file(chunks, output_file):\n",
    "    with open(output_file, 'w', encoding='utf-8') as f:\n",
    "        for chunk in chunks:\n",
    "            f.write(chunk + '\\n')\n",
    "\n",
    "pdf_path = 'infos/pdf2.pdf'\n",
    "pdf_text = extract_text_from_pdf(pdf_path)\n",
    "\n",
    "loader = UnstructuredFileLoader(pdf_text)\n",
    "\n",
    "processed_text = loader\n",
    "\n",
    "# Print the processed text\n",
    "print(processed_text)"
   ],
   "metadata": {
    "collapsed": false,
    "ExecuteTime": {
     "end_time": "2024-05-10T14:08:51.199389Z",
     "start_time": "2024-05-10T14:08:44.971857100Z"
    }
   },
   "id": "initial_id"
  },
  {
   "cell_type": "code",
   "execution_count": null,
   "outputs": [],
   "source": [],
   "metadata": {
    "collapsed": false
   },
   "id": "5b6cb31c29b5894e"
  }
 ],
 "metadata": {
  "kernelspec": {
   "display_name": "Python 3",
   "language": "python",
   "name": "python3"
  },
  "language_info": {
   "codemirror_mode": {
    "name": "ipython",
    "version": 2
   },
   "file_extension": ".py",
   "mimetype": "text/x-python",
   "name": "python",
   "nbconvert_exporter": "python",
   "pygments_lexer": "ipython2",
   "version": "2.7.6"
  }
 },
 "nbformat": 4,
 "nbformat_minor": 5
}
